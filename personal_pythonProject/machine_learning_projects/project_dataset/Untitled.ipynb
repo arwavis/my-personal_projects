{
 "cells": [
  {
   "cell_type": "code",
   "execution_count": null,
   "id": "e094a1db-a749-48c3-81b5-b56bb94d1607",
   "metadata": {},
   "outputs": [],
   "source": []
  }
 ],
 "metadata": {
  "kernelspec": {
   "display_name": "Python 3 (ipykernel)",
   "language": "python",
   "name": "python3"
  },
  "language_info": {
   "codemirror_mode": {
    "name": "ipython",
    "version": 3
   },
   "file_extension": ".py",
   "mimetype": "text/x-python",
   "name": "python",
   "nbconvert_exporter": "python",
   "pygments_lexer": "ipython3",
   "version": "3.11.5"
  }
 },
 "nbformat": 4,
 "nbformat_minor": 5
}
